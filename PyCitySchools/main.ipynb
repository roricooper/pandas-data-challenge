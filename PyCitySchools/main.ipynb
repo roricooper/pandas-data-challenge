{
 "cells": [
  {
   "cell_type": "code",
   "execution_count": 347,
   "metadata": {},
   "outputs": [],
   "source": [
    "# Rori Cooper - Homework Unit 4 Pandas (PyCitySchools)\n",
    "\n",
    "# Dependencies\n",
    "import pandas as pd\n",
    "import numpy as np\n",
    "\n",
    "# Load resource files\n",
    "school_resource_data = \"Resources/schools_complete.csv\"\n",
    "student_resource_data = \"Resources/students_complete.csv\""
   ]
  },
  {
   "cell_type": "code",
   "execution_count": 348,
   "metadata": {},
   "outputs": [],
   "source": [
    "# Read school_data files and set data frames\n",
    "school_data = pd.read_csv(school_resource_data)\n",
    "schools = school_data.rename(columns={'school_name' : 'School Name','type' : 'School Type','size' : 'Size','budget' : 'Budget'})\n",
    "#schools.head()"
   ]
  },
  {
   "cell_type": "code",
   "execution_count": 349,
   "metadata": {},
   "outputs": [],
   "source": [
    "# Read student_data files and set data frames\n",
    "student_data = pd.read_csv(student_resource_data)\n",
    "students = student_data.rename(columns={'student_name' : 'Student Name','gender': 'Gender', 'grade': 'Grade', 'school_name':'School Name', 'reading_score':'Reading Score', 'math_score':'Math Score'})\n",
    "#students.head()"
   ]
  },
  {
   "cell_type": "code",
   "execution_count": 350,
   "metadata": {},
   "outputs": [],
   "source": [
    "# Merge school_ and student_ data sets\n",
    "school_data_merged = pd.merge(students, schools, how=\"left\", on=[\"School Name\", \"School Name\"])\n",
    "#school_data_merged.head()"
   ]
  },
  {
   "cell_type": "code",
   "execution_count": 351,
   "metadata": {},
   "outputs": [],
   "source": [
    "## Part I - District Summary"
   ]
  },
  {
   "cell_type": "code",
   "execution_count": 352,
   "metadata": {},
   "outputs": [],
   "source": [
    "# Calculate the total number of schools\n",
    "school_count = school_data_merged[\"School Name\"].nunique()\n",
    "#print(school_count)"
   ]
  },
  {
   "cell_type": "code",
   "execution_count": 353,
   "metadata": {},
   "outputs": [],
   "source": [
    "# Calculate the total number of students\n",
    "student_count = school_data_merged[\"Student ID\"].nunique()\n",
    "#print(student_count)"
   ]
  },
  {
   "cell_type": "code",
   "execution_count": 354,
   "metadata": {},
   "outputs": [],
   "source": [
    "# Calculate the total budget\n",
    "total_budget = schools[\"Budget\"].sum()\n",
    "#print(total_budget)"
   ]
  },
  {
   "cell_type": "code",
   "execution_count": 355,
   "metadata": {},
   "outputs": [],
   "source": [
    "# Calculate the average math score\n",
    "avg_math_score = students[\"Math Score\"].mean()\n",
    "#print(avg_math_score)"
   ]
  },
  {
   "cell_type": "code",
   "execution_count": 356,
   "metadata": {},
   "outputs": [],
   "source": [
    "# Calculate the average reading score\n",
    "avg_reading_score = students[\"Reading Score\"].mean()\n",
    "#print(avg_reading_score)"
   ]
  },
  {
   "cell_type": "code",
   "execution_count": 357,
   "metadata": {},
   "outputs": [],
   "source": [
    "# Calculate the percentage of students with a passing math score (70 or greater)\n",
    "students_passing_math = school_data_merged[school_data_merged[\"Math Score\"] >= 70].count()[\"School Name\"]\n",
    "percent_passing_math = (students_passing_math / student_count) * 100\n",
    "#print(percent_passing_math)"
   ]
  },
  {
   "cell_type": "code",
   "execution_count": 358,
   "metadata": {},
   "outputs": [],
   "source": [
    "# Calculate the percentage of students with a passing reading score (70 or greater)\n",
    "students_passing_reading = school_data_merged[school_data_merged[\"Reading Score\"] >= 70].count()[\"School Name\"]\n",
    "percent_passing_reading = (students_passing_reading / student_count) * 100\n",
    "#print(percent_passing_reading)"
   ]
  },
  {
   "cell_type": "code",
   "execution_count": 359,
   "metadata": {},
   "outputs": [],
   "source": [
    "# Calculate the overall passing rate (overall average score), i.e. (avg. math score + avg. reading score)/2\n",
    "avg_overall_score = (avg_math_score + avg_reading_score)/2\n",
    "#print(avg_overall_score)"
   ]
  },
  {
   "cell_type": "code",
   "execution_count": 360,
   "metadata": {},
   "outputs": [
    {
     "data": {
      "text/html": [
       "<div>\n",
       "<style scoped>\n",
       "    .dataframe tbody tr th:only-of-type {\n",
       "        vertical-align: middle;\n",
       "    }\n",
       "\n",
       "    .dataframe tbody tr th {\n",
       "        vertical-align: top;\n",
       "    }\n",
       "\n",
       "    .dataframe thead th {\n",
       "        text-align: right;\n",
       "    }\n",
       "</style>\n",
       "<table border=\"1\" class=\"dataframe\">\n",
       "  <thead>\n",
       "    <tr style=\"text-align: right;\">\n",
       "      <th></th>\n",
       "      <th>Total Schools</th>\n",
       "      <th>Total Students</th>\n",
       "      <th>Total Budget</th>\n",
       "      <th>Average Math Score</th>\n",
       "      <th>Average Reading Score</th>\n",
       "      <th>% Passing Math</th>\n",
       "      <th>% Passing Reading</th>\n",
       "      <th>Overall Average Score</th>\n",
       "    </tr>\n",
       "  </thead>\n",
       "  <tbody>\n",
       "    <tr>\n",
       "      <th>0</th>\n",
       "      <td>15</td>\n",
       "      <td>39170</td>\n",
       "      <td>24649428</td>\n",
       "      <td>78.985371</td>\n",
       "      <td>81.87784</td>\n",
       "      <td>74.980853</td>\n",
       "      <td>85.805463</td>\n",
       "      <td>80.431606</td>\n",
       "    </tr>\n",
       "  </tbody>\n",
       "</table>\n",
       "</div>"
      ],
      "text/plain": [
       "   Total Schools  Total Students  Total Budget  Average Math Score  \\\n",
       "0             15           39170      24649428           78.985371   \n",
       "\n",
       "   Average Reading Score  % Passing Math  % Passing Reading  \\\n",
       "0               81.87784       74.980853          85.805463   \n",
       "\n",
       "   Overall Average Score  \n",
       "0              80.431606  "
      ]
     },
     "execution_count": 360,
     "metadata": {},
     "output_type": "execute_result"
    }
   ],
   "source": [
    "# Create a District Summary dataframe to hold the above results\n",
    "# Optional: give the displayed data cleaner formatting\n",
    "District_Summary = pd.DataFrame({\"Total Schools\"               :[school_count], \n",
    "                                 \"Total Students\"              :[student_count],\n",
    "                                 \"Total Budget\"                :[total_budget], \n",
    "                                 \"Average Math Score\"          :[avg_math_score],\n",
    "                                 \"Average Reading Score\"       :[avg_reading_score], \n",
    "                                 \"% Passing Math\"              :percent_passing_math,\n",
    "                                 \"% Passing Reading\"           :percent_passing_reading, \n",
    "                                 \"Overall Average Score\"       : avg_overall_score})\n",
    "District_Summary = District_Summary[[\"Total Schools\", \"Total Students\", \"Total Budget\", \"Average Math Score\",\n",
    "                                 \"Average Reading Score\", \"% Passing Math\", \"% Passing Reading\", \"Overall Average Score\"]]\n",
    "District_Summary\n",
    "\n",
    "## Part I - District Summary - Solution"
   ]
  },
  {
   "cell_type": "code",
   "execution_count": 361,
   "metadata": {},
   "outputs": [],
   "source": [
    "## Part II - School Summary\n",
    "\n",
    "#school_data_merged.head()"
   ]
  },
  {
   "cell_type": "code",
   "execution_count": 362,
   "metadata": {},
   "outputs": [],
   "source": [
    "# Determine the school type\n",
    "school_types = school_data.set_index([\"school_name\"])[\"type\"]\n",
    "#print(school_types)"
   ]
  },
  {
   "cell_type": "code",
   "execution_count": 363,
   "metadata": {},
   "outputs": [],
   "source": [
    "# Calculate total students per school\n",
    "per_school_counts = school_data.set_index([\"school_name\"])[\"size\"]\n",
    "#print(per_school_counts)"
   ]
  },
  {
   "cell_type": "code",
   "execution_count": 364,
   "metadata": {},
   "outputs": [],
   "source": [
    "# Calculate total budget per school\n",
    "school_budgets = school_data.set_index([\"school_name\"])[\"budget\"]\n",
    "#print(school_budgets)"
   ]
  },
  {
   "cell_type": "code",
   "execution_count": 365,
   "metadata": {},
   "outputs": [],
   "source": [
    "# Calculate per student budget\n",
    "per_student_budget = school_budgets/ per_school_counts\n",
    "#print(per_student_budget)\n"
   ]
  },
  {
   "cell_type": "code",
   "execution_count": 366,
   "metadata": {},
   "outputs": [],
   "source": [
    "# Average math score per sch\n",
    "avg_math_per_school = school_data_merged.groupby([\"School Name\"]).mean()[\"Math Score\"]\n",
    "#print(avg_math_per_school)\n"
   ]
  },
  {
   "cell_type": "code",
   "execution_count": 367,
   "metadata": {},
   "outputs": [],
   "source": [
    "# Average reading score per school\n",
    "avg_reading_per_school = school_data_merged.groupby([\"School Name\"]).mean()[\"Reading Score\"]\n",
    "#print(avg_reading_per_school)"
   ]
  },
  {
   "cell_type": "code",
   "execution_count": 368,
   "metadata": {},
   "outputs": [],
   "source": [
    "# Count of students passing math\n",
    "students_passing_math =  school_data_merged[school_data_merged[\"Math Score\"] >= 70].groupby(\"School Name\").count()[\"Student ID\"]\n",
    "#print(students_passing_math)"
   ]
  },
  {
   "cell_type": "code",
   "execution_count": 369,
   "metadata": {},
   "outputs": [],
   "source": [
    "# Count of students passing reading\n",
    "students_passing_reading =  school_data_merged[school_data_merged[\"Reading Score\"] >= 70].groupby(\"School Name\").count()[\"Student ID\"]\n",
    "#print(students_passing_reading)"
   ]
  },
  {
   "cell_type": "code",
   "execution_count": 370,
   "metadata": {},
   "outputs": [],
   "source": [
    "# Percent of students passing math\n",
    "percent_passing_math = students_passing_math / per_school_counts * 100\n",
    "#print(percent_passing_math)"
   ]
  },
  {
   "cell_type": "code",
   "execution_count": 371,
   "metadata": {},
   "outputs": [],
   "source": [
    "# Percent of students passing reading\n",
    "percent_passing_reading = students_passing_reading / per_school_counts * 100\n",
    "#print(percent_passing_reading)"
   ]
  },
  {
   "cell_type": "code",
   "execution_count": 372,
   "metadata": {},
   "outputs": [],
   "source": [
    "# Calculate average overall score per school\n",
    "avg_overall_score_per_school = (percent_passing_math + percent_passing_reading) / 2\n",
    "#print(avg_overall_score_per_school)"
   ]
  },
  {
   "cell_type": "code",
   "execution_count": 373,
   "metadata": {},
   "outputs": [],
   "source": [
    "# Summarize schools in table\n",
    "\n",
    "School_Summary = pd.DataFrame({\"School Type\"             : school_types, \n",
    "                               \"Total Students\"          : per_school_counts, \n",
    "                               \"Total School Budget\"     : school_budgets, \n",
    "                               \"Per Student Budget\"      : per_student_budget,\n",
    "                               \"Average Math Score\"      : avg_math_score, \n",
    "                               \"Average Reading Score\"   : avg_reading_score,\n",
    "                               \"% Passing Math\"          : percent_passing_math, \n",
    "                               \"% Passing Reading\"       : percent_passing_reading,\n",
    "                               \"Overall Passing Rate\"    :avg_overall_score_per_school})  \n",
    "#print(School_Summary)"
   ]
  },
  {
   "cell_type": "code",
   "execution_count": 374,
   "metadata": {},
   "outputs": [],
   "source": [
    "School_Summary = School_Summary[[\"School Type\",\"Total Students\",\"Total School Budget\",\"Per Student Budget\",\n",
    "                                \"Average Math Score\",\"Average Reading Score\",\"% Passing Math\",\"% Passing Reading\",\n",
    "                                 \"Overall Passing Rate\"]]\n"
   ]
  },
  {
   "cell_type": "code",
   "execution_count": 316,
   "metadata": {},
   "outputs": [
    {
     "data": {
      "text/html": [
       "<div>\n",
       "<style scoped>\n",
       "    .dataframe tbody tr th:only-of-type {\n",
       "        vertical-align: middle;\n",
       "    }\n",
       "\n",
       "    .dataframe tbody tr th {\n",
       "        vertical-align: top;\n",
       "    }\n",
       "\n",
       "    .dataframe thead th {\n",
       "        text-align: right;\n",
       "    }\n",
       "</style>\n",
       "<table border=\"1\" class=\"dataframe\">\n",
       "  <thead>\n",
       "    <tr style=\"text-align: right;\">\n",
       "      <th></th>\n",
       "      <th>School Type</th>\n",
       "      <th>Total Students</th>\n",
       "      <th>Total School Budget</th>\n",
       "      <th>Per Student Budget</th>\n",
       "      <th>Average Math Score</th>\n",
       "      <th>Average Reading Score</th>\n",
       "      <th>% Passing Math</th>\n",
       "      <th>% Passing Reading</th>\n",
       "      <th>Overall Passing Rate</th>\n",
       "    </tr>\n",
       "  </thead>\n",
       "  <tbody>\n",
       "    <tr>\n",
       "      <th>Bailey High School</th>\n",
       "      <td>District</td>\n",
       "      <td>4976</td>\n",
       "      <td>3124928</td>\n",
       "      <td>628.0</td>\n",
       "      <td>78.985371</td>\n",
       "      <td>81.87784</td>\n",
       "      <td>66.680064</td>\n",
       "      <td>81.933280</td>\n",
       "      <td>74.306672</td>\n",
       "    </tr>\n",
       "    <tr>\n",
       "      <th>Cabrera High School</th>\n",
       "      <td>Charter</td>\n",
       "      <td>1858</td>\n",
       "      <td>1081356</td>\n",
       "      <td>582.0</td>\n",
       "      <td>78.985371</td>\n",
       "      <td>81.87784</td>\n",
       "      <td>94.133477</td>\n",
       "      <td>97.039828</td>\n",
       "      <td>95.586652</td>\n",
       "    </tr>\n",
       "    <tr>\n",
       "      <th>Figueroa High School</th>\n",
       "      <td>District</td>\n",
       "      <td>2949</td>\n",
       "      <td>1884411</td>\n",
       "      <td>639.0</td>\n",
       "      <td>78.985371</td>\n",
       "      <td>81.87784</td>\n",
       "      <td>65.988471</td>\n",
       "      <td>80.739234</td>\n",
       "      <td>73.363852</td>\n",
       "    </tr>\n",
       "    <tr>\n",
       "      <th>Ford High School</th>\n",
       "      <td>District</td>\n",
       "      <td>2739</td>\n",
       "      <td>1763916</td>\n",
       "      <td>644.0</td>\n",
       "      <td>78.985371</td>\n",
       "      <td>81.87784</td>\n",
       "      <td>68.309602</td>\n",
       "      <td>79.299014</td>\n",
       "      <td>73.804308</td>\n",
       "    </tr>\n",
       "    <tr>\n",
       "      <th>Griffin High School</th>\n",
       "      <td>Charter</td>\n",
       "      <td>1468</td>\n",
       "      <td>917500</td>\n",
       "      <td>625.0</td>\n",
       "      <td>78.985371</td>\n",
       "      <td>81.87784</td>\n",
       "      <td>93.392371</td>\n",
       "      <td>97.138965</td>\n",
       "      <td>95.265668</td>\n",
       "    </tr>\n",
       "    <tr>\n",
       "      <th>Hernandez High School</th>\n",
       "      <td>District</td>\n",
       "      <td>4635</td>\n",
       "      <td>3022020</td>\n",
       "      <td>652.0</td>\n",
       "      <td>78.985371</td>\n",
       "      <td>81.87784</td>\n",
       "      <td>66.752967</td>\n",
       "      <td>80.862999</td>\n",
       "      <td>73.807983</td>\n",
       "    </tr>\n",
       "    <tr>\n",
       "      <th>Holden High School</th>\n",
       "      <td>Charter</td>\n",
       "      <td>427</td>\n",
       "      <td>248087</td>\n",
       "      <td>581.0</td>\n",
       "      <td>78.985371</td>\n",
       "      <td>81.87784</td>\n",
       "      <td>92.505855</td>\n",
       "      <td>96.252927</td>\n",
       "      <td>94.379391</td>\n",
       "    </tr>\n",
       "    <tr>\n",
       "      <th>Huang High School</th>\n",
       "      <td>District</td>\n",
       "      <td>2917</td>\n",
       "      <td>1910635</td>\n",
       "      <td>655.0</td>\n",
       "      <td>78.985371</td>\n",
       "      <td>81.87784</td>\n",
       "      <td>65.683922</td>\n",
       "      <td>81.316421</td>\n",
       "      <td>73.500171</td>\n",
       "    </tr>\n",
       "    <tr>\n",
       "      <th>Johnson High School</th>\n",
       "      <td>District</td>\n",
       "      <td>4761</td>\n",
       "      <td>3094650</td>\n",
       "      <td>650.0</td>\n",
       "      <td>78.985371</td>\n",
       "      <td>81.87784</td>\n",
       "      <td>66.057551</td>\n",
       "      <td>81.222432</td>\n",
       "      <td>73.639992</td>\n",
       "    </tr>\n",
       "    <tr>\n",
       "      <th>Pena High School</th>\n",
       "      <td>Charter</td>\n",
       "      <td>962</td>\n",
       "      <td>585858</td>\n",
       "      <td>609.0</td>\n",
       "      <td>78.985371</td>\n",
       "      <td>81.87784</td>\n",
       "      <td>94.594595</td>\n",
       "      <td>95.945946</td>\n",
       "      <td>95.270270</td>\n",
       "    </tr>\n",
       "    <tr>\n",
       "      <th>Rodriguez High School</th>\n",
       "      <td>District</td>\n",
       "      <td>3999</td>\n",
       "      <td>2547363</td>\n",
       "      <td>637.0</td>\n",
       "      <td>78.985371</td>\n",
       "      <td>81.87784</td>\n",
       "      <td>66.366592</td>\n",
       "      <td>80.220055</td>\n",
       "      <td>73.293323</td>\n",
       "    </tr>\n",
       "    <tr>\n",
       "      <th>Shelton High School</th>\n",
       "      <td>Charter</td>\n",
       "      <td>1761</td>\n",
       "      <td>1056600</td>\n",
       "      <td>600.0</td>\n",
       "      <td>78.985371</td>\n",
       "      <td>81.87784</td>\n",
       "      <td>93.867121</td>\n",
       "      <td>95.854628</td>\n",
       "      <td>94.860875</td>\n",
       "    </tr>\n",
       "    <tr>\n",
       "      <th>Thomas High School</th>\n",
       "      <td>Charter</td>\n",
       "      <td>1635</td>\n",
       "      <td>1043130</td>\n",
       "      <td>638.0</td>\n",
       "      <td>78.985371</td>\n",
       "      <td>81.87784</td>\n",
       "      <td>93.272171</td>\n",
       "      <td>97.308869</td>\n",
       "      <td>95.290520</td>\n",
       "    </tr>\n",
       "    <tr>\n",
       "      <th>Wilson High School</th>\n",
       "      <td>Charter</td>\n",
       "      <td>2283</td>\n",
       "      <td>1319574</td>\n",
       "      <td>578.0</td>\n",
       "      <td>78.985371</td>\n",
       "      <td>81.87784</td>\n",
       "      <td>93.867718</td>\n",
       "      <td>96.539641</td>\n",
       "      <td>95.203679</td>\n",
       "    </tr>\n",
       "    <tr>\n",
       "      <th>Wright High School</th>\n",
       "      <td>Charter</td>\n",
       "      <td>1800</td>\n",
       "      <td>1049400</td>\n",
       "      <td>583.0</td>\n",
       "      <td>78.985371</td>\n",
       "      <td>81.87784</td>\n",
       "      <td>93.333333</td>\n",
       "      <td>96.611111</td>\n",
       "      <td>94.972222</td>\n",
       "    </tr>\n",
       "  </tbody>\n",
       "</table>\n",
       "</div>"
      ],
      "text/plain": [
       "                      School Type  Total Students  Total School Budget  \\\n",
       "Bailey High School       District            4976              3124928   \n",
       "Cabrera High School       Charter            1858              1081356   \n",
       "Figueroa High School     District            2949              1884411   \n",
       "Ford High School         District            2739              1763916   \n",
       "Griffin High School       Charter            1468               917500   \n",
       "Hernandez High School    District            4635              3022020   \n",
       "Holden High School        Charter             427               248087   \n",
       "Huang High School        District            2917              1910635   \n",
       "Johnson High School      District            4761              3094650   \n",
       "Pena High School          Charter             962               585858   \n",
       "Rodriguez High School    District            3999              2547363   \n",
       "Shelton High School       Charter            1761              1056600   \n",
       "Thomas High School        Charter            1635              1043130   \n",
       "Wilson High School        Charter            2283              1319574   \n",
       "Wright High School        Charter            1800              1049400   \n",
       "\n",
       "                       Per Student Budget  Average Math Score  \\\n",
       "Bailey High School                  628.0           78.985371   \n",
       "Cabrera High School                 582.0           78.985371   \n",
       "Figueroa High School                639.0           78.985371   \n",
       "Ford High School                    644.0           78.985371   \n",
       "Griffin High School                 625.0           78.985371   \n",
       "Hernandez High School               652.0           78.985371   \n",
       "Holden High School                  581.0           78.985371   \n",
       "Huang High School                   655.0           78.985371   \n",
       "Johnson High School                 650.0           78.985371   \n",
       "Pena High School                    609.0           78.985371   \n",
       "Rodriguez High School               637.0           78.985371   \n",
       "Shelton High School                 600.0           78.985371   \n",
       "Thomas High School                  638.0           78.985371   \n",
       "Wilson High School                  578.0           78.985371   \n",
       "Wright High School                  583.0           78.985371   \n",
       "\n",
       "                       Average Reading Score  % Passing Math  \\\n",
       "Bailey High School                  81.87784       66.680064   \n",
       "Cabrera High School                 81.87784       94.133477   \n",
       "Figueroa High School                81.87784       65.988471   \n",
       "Ford High School                    81.87784       68.309602   \n",
       "Griffin High School                 81.87784       93.392371   \n",
       "Hernandez High School               81.87784       66.752967   \n",
       "Holden High School                  81.87784       92.505855   \n",
       "Huang High School                   81.87784       65.683922   \n",
       "Johnson High School                 81.87784       66.057551   \n",
       "Pena High School                    81.87784       94.594595   \n",
       "Rodriguez High School               81.87784       66.366592   \n",
       "Shelton High School                 81.87784       93.867121   \n",
       "Thomas High School                  81.87784       93.272171   \n",
       "Wilson High School                  81.87784       93.867718   \n",
       "Wright High School                  81.87784       93.333333   \n",
       "\n",
       "                       % Passing Reading  Overall Passing Rate  \n",
       "Bailey High School             81.933280             74.306672  \n",
       "Cabrera High School            97.039828             95.586652  \n",
       "Figueroa High School           80.739234             73.363852  \n",
       "Ford High School               79.299014             73.804308  \n",
       "Griffin High School            97.138965             95.265668  \n",
       "Hernandez High School          80.862999             73.807983  \n",
       "Holden High School             96.252927             94.379391  \n",
       "Huang High School              81.316421             73.500171  \n",
       "Johnson High School            81.222432             73.639992  \n",
       "Pena High School               95.945946             95.270270  \n",
       "Rodriguez High School          80.220055             73.293323  \n",
       "Shelton High School            95.854628             94.860875  \n",
       "Thomas High School             97.308869             95.290520  \n",
       "Wilson High School             96.539641             95.203679  \n",
       "Wright High School             96.611111             94.972222  "
      ]
     },
     "execution_count": 316,
     "metadata": {},
     "output_type": "execute_result"
    }
   ],
   "source": [
    "School_Summary.head(15)"
   ]
  },
  {
   "cell_type": "code",
   "execution_count": null,
   "metadata": {},
   "outputs": [],
   "source": []
  },
  {
   "cell_type": "code",
   "execution_count": null,
   "metadata": {},
   "outputs": [],
   "source": []
  }
 ],
 "metadata": {
  "kernelspec": {
   "display_name": "Python 3",
   "language": "python",
   "name": "python3"
  },
  "language_info": {
   "codemirror_mode": {
    "name": "ipython",
    "version": 3
   },
   "file_extension": ".py",
   "mimetype": "text/x-python",
   "name": "python",
   "nbconvert_exporter": "python",
   "pygments_lexer": "ipython3",
   "version": "3.6.5"
  }
 },
 "nbformat": 4,
 "nbformat_minor": 2
}
